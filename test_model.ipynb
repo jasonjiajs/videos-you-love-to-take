{
 "cells": [
  {
   "cell_type": "code",
   "execution_count": 6,
   "metadata": {},
   "outputs": [],
   "source": [
    "import tensorflow as tf\n",
    "from tensorflow.keras import Sequential\n",
    "from tensorflow.keras.layers import Embedding, SimpleRNN, Dense\n",
    "from tensorflow.keras.optimizers import Adam\n",
    "\n",
    "\n",
    "# Load the dataset\n",
    "load_dir = './saved_dataset'\n",
    "loaded_dataset = tf.data.experimental.load(load_dir)\n",
    "\n",
    "batch_size = 32\n",
    "loaded_dataset = loaded_dataset.batch(batch_size).shuffle(1000).prefetch(tf.data.experimental.AUTOTUNE)\n",
    "\n",
    "number_of_labels = 3862\n"
   ]
  },
  {
   "cell_type": "code",
   "execution_count": 7,
   "metadata": {},
   "outputs": [
    {
     "name": "stderr",
     "output_type": "stream",
     "text": [
      "WARNING:absl:At this time, the v2.11+ optimizer `tf.keras.optimizers.Adam` runs slowly on M1/M2 Macs, please use the legacy Keras optimizer instead, located at `tf.keras.optimizers.legacy.Adam`.\n"
     ]
    },
    {
     "name": "stdout",
     "output_type": "stream",
     "text": [
      "Epoch 1/10\n",
      "158/158 [==============================] - 18s 74ms/step - loss: 0.0589 - accuracy: 0.1612\n",
      "Epoch 2/10\n",
      "158/158 [==============================] - 18s 75ms/step - loss: 0.0047 - accuracy: 0.1862\n",
      "Epoch 3/10\n",
      "158/158 [==============================] - 17s 72ms/step - loss: 0.0046 - accuracy: 0.1906\n",
      "Epoch 4/10\n",
      "158/158 [==============================] - 17s 71ms/step - loss: 0.0046 - accuracy: 0.1868\n",
      "Epoch 5/10\n",
      "158/158 [==============================] - 18s 73ms/step - loss: 0.0046 - accuracy: 0.1923\n",
      "Epoch 6/10\n",
      "158/158 [==============================] - 17s 72ms/step - loss: 0.0046 - accuracy: 0.1935\n",
      "Epoch 7/10\n",
      "158/158 [==============================] - 17s 72ms/step - loss: 0.0046 - accuracy: 0.1898\n",
      "Epoch 8/10\n",
      "158/158 [==============================] - 17s 72ms/step - loss: 0.0046 - accuracy: 0.1919\n",
      "Epoch 9/10\n",
      "158/158 [==============================] - 17s 71ms/step - loss: 0.0046 - accuracy: 0.1919\n",
      "Epoch 10/10\n",
      "158/158 [==============================] - 18s 74ms/step - loss: 0.0046 - accuracy: 0.1896\n"
     ]
    },
    {
     "data": {
      "text/plain": [
       "<keras.src.callbacks.History at 0x17ee686d0>"
      ]
     },
     "execution_count": 7,
     "metadata": {},
     "output_type": "execute_result"
    }
   ],
   "source": [
    "model = Sequential([\n",
    "    SimpleRNN(64, return_sequences=True),\n",
    "    SimpleRNN(64),\n",
    "    Dense(128, activation='relu'),\n",
    "    Dense(number_of_labels, activation='sigmoid')\n",
    "])\n",
    "\n",
    "model.compile(optimizer=Adam(learning_rate=0.001),\n",
    "              loss='binary_crossentropy',\n",
    "              metrics=['accuracy'])\n",
    "\n",
    "model.fit(loaded_dataset, epochs=10)\n"
   ]
  }
 ],
 "metadata": {
  "kernelspec": {
   "display_name": "venv",
   "language": "python",
   "name": "python3"
  },
  "language_info": {
   "codemirror_mode": {
    "name": "ipython",
    "version": 3
   },
   "file_extension": ".py",
   "mimetype": "text/x-python",
   "name": "python",
   "nbconvert_exporter": "python",
   "pygments_lexer": "ipython3",
   "version": "3.9.18"
  }
 },
 "nbformat": 4,
 "nbformat_minor": 2
}
