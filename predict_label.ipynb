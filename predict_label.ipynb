import os
from tensorflow.keras.models import load_model

save_dir = os.path.join("models", "save_experiments")
loaded_model = load_model(os.path.join(save_dir, "saved_model.h5"))

loaded_model.summary()