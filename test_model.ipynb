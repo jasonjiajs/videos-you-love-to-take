{
 "cells": [
  {
   "cell_type": "code",
   "execution_count": 2,
   "metadata": {},
   "outputs": [
    {
     "name": "stdout",
     "output_type": "stream",
     "text": [
      "WARNING:tensorflow:From /var/folders/y8/xy6xy9s53flg2nvj1bdcfx6h0000gn/T/ipykernel_75258/1028558516.py:9: load (from tensorflow.python.data.experimental.ops.io) is deprecated and will be removed in a future version.\n",
      "Instructions for updating:\n",
      "Use `tf.data.Dataset.load(...)` instead.\n"
     ]
    },
    {
     "name": "stderr",
     "output_type": "stream",
     "text": [
      "[libprotobuf ERROR external/com_google_protobuf/src/google/protobuf/text_format.cc:337] Error parsing text-format tensorflow.data.experimental.DistributedSnapshotMetadata: 1:1: Invalid control characters encountered in text.\n",
      "[libprotobuf ERROR external/com_google_protobuf/src/google/protobuf/text_format.cc:337] Error parsing text-format tensorflow.data.experimental.DistributedSnapshotMetadata: 1:3: Expected identifier, got: 18236111630547889587\n"
     ]
    }
   ],
   "source": [
    "import tensorflow as tf\n",
    "from tensorflow.keras import Sequential\n",
    "from tensorflow.keras.layers import Embedding, SimpleRNN, Dense\n",
    "from tensorflow.keras.optimizers.legacy import Adam\n",
    "\n",
    "# Load the dataset\n",
    "load_dir = './common-dataset'\n",
    "loaded_dataset = tf.data.experimental.load(load_dir)\n",
    "\n",
    "batch_size = 32\n",
    "loaded_dataset = loaded_dataset.batch(batch_size).shuffle(1000).prefetch(tf.data.experimental.AUTOTUNE)\n",
    "\n",
    "number_of_labels = 3862\n"
   ]
  },
  {
   "cell_type": "code",
   "execution_count": 3,
   "metadata": {},
   "outputs": [
    {
     "data": {
      "text/plain": [
       "<_PrefetchDataset element_spec=(TensorSpec(shape=(None, 301, 1024), dtype=tf.float32, name=None), TensorSpec(shape=(None, 3862), dtype=tf.int32, name=None))>"
      ]
     },
     "execution_count": 3,
     "metadata": {},
     "output_type": "execute_result"
    }
   ],
   "source": [
    "loaded_dataset"
   ]
  },
  {
   "cell_type": "code",
   "execution_count": 4,
   "metadata": {},
   "outputs": [
    {
     "name": "stdout",
     "output_type": "stream",
     "text": [
      "Epoch 1/10\n"
     ]
    },
    {
     "name": "stderr",
     "output_type": "stream",
     "text": [
      "[libprotobuf ERROR external/com_google_protobuf/src/google/protobuf/text_format.cc:337] Error parsing text-format tensorflow.data.experimental.DistributedSnapshotMetadata: 1:1: Invalid control characters encountered in text.\n",
      "[libprotobuf ERROR external/com_google_protobuf/src/google/protobuf/text_format.cc:337] Error parsing text-format tensorflow.data.experimental.DistributedSnapshotMetadata: 1:3: Expected identifier, got: 18236111630547889587\n",
      "2024-03-06 15:48:41.446771: I tensorflow/core/kernels/data/shuffle_dataset_op.cc:422] Filling up shuffle buffer (this may take a while): 138 of 1000\n"
     ]
    },
    {
     "name": "stdout",
     "output_type": "stream",
     "text": [
      "  1/158 [..............................] - ETA: 33:49 - loss: 0.6931 - accuracy: 0.1562"
     ]
    },
    {
     "name": "stderr",
     "output_type": "stream",
     "text": [
      "2024-03-06 15:48:43.083268: I tensorflow/core/kernels/data/shuffle_dataset_op.cc:450] Shuffle buffer filled.\n"
     ]
    },
    {
     "name": "stdout",
     "output_type": "stream",
     "text": [
      "158/158 [==============================] - 42s 182ms/step - loss: 0.6555 - accuracy: 0.1697\n",
      "Epoch 2/10\n",
      "158/158 [==============================] - 23s 89ms/step - loss: 0.5854 - accuracy: 0.1961\n",
      "Epoch 3/10\n",
      "158/158 [==============================] - 21s 90ms/step - loss: 0.5233 - accuracy: 0.1961\n",
      "Epoch 4/10\n",
      "158/158 [==============================] - 22s 94ms/step - loss: 0.4685 - accuracy: 0.1961\n",
      "Epoch 5/10\n",
      "158/158 [==============================] - 22s 93ms/step - loss: 0.4202 - accuracy: 0.1961\n",
      "Epoch 6/10\n",
      "158/158 [==============================] - 21s 92ms/step - loss: 0.3778 - accuracy: 0.1961\n",
      "Epoch 7/10\n",
      "158/158 [==============================] - 22s 92ms/step - loss: 0.3404 - accuracy: 0.1961\n",
      "Epoch 8/10\n",
      "158/158 [==============================] - 21s 90ms/step - loss: 0.3073 - accuracy: 0.1961\n",
      "Epoch 9/10\n",
      "158/158 [==============================] - 21s 90ms/step - loss: 0.2781 - accuracy: 0.1961\n",
      "Epoch 10/10\n",
      "158/158 [==============================] - 21s 89ms/step - loss: 0.2522 - accuracy: 0.1961\n"
     ]
    },
    {
     "data": {
      "text/plain": [
       "<keras.src.callbacks.History at 0x28db0bdd0>"
      ]
     },
     "execution_count": 4,
     "metadata": {},
     "output_type": "execute_result"
    }
   ],
   "source": [
    "model = Sequential([\n",
    "    SimpleRNN(64, return_sequences=True),\n",
    "    SimpleRNN(64),\n",
    "    Dense(128, activation='relu'),\n",
    "    Dense(number_of_labels, activation='sigmoid')\n",
    "])\n",
    "\n",
    "# replace Adam optimizer with tf.keras.optimizers.legacy.Adam and learning rate 0.001\n",
    "\n",
    "\n",
    "model.compile(optimizer=Adam(learning_rate=0.001),\n",
    "              loss='binary_crossentropy',\n",
    "              metrics=['accuracy'])\n",
    "\n",
    "model.fit(loaded_dataset, epochs=10)\n"
   ]
  },
  {
   "cell_type": "code",
   "execution_count": 5,
   "metadata": {},
   "outputs": [
    {
     "data": {
      "text/plain": [
       "<keras.src.engine.sequential.Sequential at 0x28db01c90>"
      ]
     },
     "execution_count": 5,
     "metadata": {},
     "output_type": "execute_result"
    }
   ],
   "source": [
    "model"
   ]
  },
  {
   "cell_type": "code",
   "execution_count": null,
   "metadata": {},
   "outputs": [],
   "source": []
  },
  {
   "cell_type": "code",
   "execution_count": null,
   "metadata": {},
   "outputs": [],
   "source": []
  }
 ],
 "metadata": {
  "kernelspec": {
   "display_name": "venv",
   "language": "python",
   "name": "python3"
  },
  "language_info": {
   "codemirror_mode": {
    "name": "ipython",
    "version": 3
   },
   "file_extension": ".py",
   "mimetype": "text/x-python",
   "name": "python",
   "nbconvert_exporter": "python",
   "pygments_lexer": "ipython3",
   "version": "3.11.4"
  }
 },
 "nbformat": 4,
 "nbformat_minor": 2
}
